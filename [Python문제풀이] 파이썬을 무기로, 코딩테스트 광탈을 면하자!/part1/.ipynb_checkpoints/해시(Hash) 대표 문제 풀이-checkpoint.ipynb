{
 "cells": [
  {
   "cell_type": "markdown",
   "id": "53521eb2-c5e5-46fc-9166-cd84acf9968c",
   "metadata": {},
   "source": [
    "## 문제\n",
    "- 해시 - 완주하지 못한 선수"
   ]
  },
  {
   "cell_type": "markdown",
   "id": "d93f48ef-bbf5-4698-ae64-4709939fb73b",
   "metadata": {},
   "source": [
    "자료구조(와 알고리즘)의 선택\n",
    "- 만약 이름 대신 번호가 주어졌다면? : **선형 배열(linear array)**\n",
    "- 번호 말고 다른 것 (예:문자열)로 접근할 수 있는 좋은 자료 구조는? : **해시(Hash)**\n",
    "\n"
   ]
  },
  {
   "cell_type": "code",
   "execution_count": 3,
   "id": "bc0b08b3-a5fd-4093-8051-867e7a905976",
   "metadata": {},
   "outputs": [],
   "source": [
    "# 영상 풀이\n",
    "def solution(participant, completion):\n",
    "    d = {}\n",
    "    for x in participant:\n",
    "        d[x] = d.get(x, 0) + 1\n",
    "    \n",
    "    for x in completion:\n",
    "        d[x] -= 1\n",
    "        \n",
    "    dnf = [k for k, v in d.items() if v > 0]\n",
    "    answer = dnf[0]\n",
    "    return answer"
   ]
  },
  {
   "cell_type": "code",
   "execution_count": 6,
   "id": "0262e24b-aa06-4596-8a07-70a8daac0209",
   "metadata": {},
   "outputs": [
    {
     "name": "stdout",
     "output_type": "stream",
     "text": [
      "leo\n",
      "vinko\n",
      "mislav\n"
     ]
    }
   ],
   "source": [
    "print(solution([\"leo\", \"kiki\", \"eden\"],\t[\"eden\", \"kiki\"]))\n",
    "print(solution([\"marina\", \"josipa\", \"nikola\", \"vinko\", \"filipa\"],[\"josipa\", \"filipa\", \"marina\", \"nikola\"]))\n",
    "print(solution([\"mislav\", \"stanko\", \"mislav\", \"ana\"],[\"stanko\", \"ana\", \"mislav\"]))"
   ]
  },
  {
   "cell_type": "code",
   "execution_count": 7,
   "id": "eecaba38-d86a-48e5-970b-c03f76ac16c1",
   "metadata": {},
   "outputs": [],
   "source": [
    "# 정렬 이용 풀이\n",
    "def solution(participant, completion):\n",
    "    participant.sort()\n",
    "    completion.sort()\n",
    "    for i in range(len(completion)):\n",
    "        if participant[i] != completion[i]:\n",
    "            return participant[i]\n",
    "    return participant[len(participant)-1]\n",
    "\n",
    "# 복잡도 O(NlogN) -> 테스트는 통과하지만"
   ]
  },
  {
   "cell_type": "code",
   "execution_count": 8,
   "id": "72f92936-b47a-4f75-8b72-ce84c3866413",
   "metadata": {},
   "outputs": [
    {
     "name": "stdout",
     "output_type": "stream",
     "text": [
      "leo\n",
      "vinko\n",
      "mislav\n"
     ]
    }
   ],
   "source": [
    "print(solution([\"leo\", \"kiki\", \"eden\"],\t[\"eden\", \"kiki\"]))\n",
    "print(solution([\"marina\", \"josipa\", \"nikola\", \"vinko\", \"filipa\"],[\"josipa\", \"filipa\", \"marina\", \"nikola\"]))\n",
    "print(solution([\"mislav\", \"stanko\", \"mislav\", \"ana\"],[\"stanko\", \"ana\", \"mislav\"]))"
   ]
  },
  {
   "cell_type": "code",
   "execution_count": 1,
   "id": "4b741479-d95f-4d46-9c77-0f98ab3eaf92",
   "metadata": {},
   "outputs": [],
   "source": [
    "# Counter 이용\n",
    "from collections import Counter\n",
    "def solution(participant, completion):\n",
    "    answer = ''\n",
    "    \n",
    "    # init\n",
    "    tmp = Counter(participant)\n",
    "    \n",
    "    for idx in completion :\n",
    "        tmp[idx] -= 1\n",
    "        \n",
    "    answer = [x for x in tmp if tmp[x] > 0][0]\n",
    "    return answer"
   ]
  },
  {
   "cell_type": "code",
   "execution_count": 9,
   "id": "bee8565b-7a10-4abd-8929-c7f80d0ef49b",
   "metadata": {},
   "outputs": [
    {
     "name": "stdout",
     "output_type": "stream",
     "text": [
      "leo\n",
      "vinko\n",
      "mislav\n"
     ]
    }
   ],
   "source": [
    "print(solution([\"leo\", \"kiki\", \"eden\"],\t[\"eden\", \"kiki\"]))\n",
    "print(solution([\"marina\", \"josipa\", \"nikola\", \"vinko\", \"filipa\"],[\"josipa\", \"filipa\", \"marina\", \"nikola\"]))\n",
    "print(solution([\"mislav\", \"stanko\", \"mislav\", \"ana\"],[\"stanko\", \"ana\", \"mislav\"]))"
   ]
  },
  {
   "cell_type": "code",
   "execution_count": null,
   "id": "ee024222-28d0-4b44-b98e-2f6bc14952ce",
   "metadata": {},
   "outputs": [],
   "source": []
  }
 ],
 "metadata": {
  "kernelspec": {
   "display_name": "Python 3 (ipykernel)",
   "language": "python",
   "name": "python3"
  },
  "language_info": {
   "codemirror_mode": {
    "name": "ipython",
    "version": 3
   },
   "file_extension": ".py",
   "mimetype": "text/x-python",
   "name": "python",
   "nbconvert_exporter": "python",
   "pygments_lexer": "ipython3",
   "version": "3.9.7"
  }
 },
 "nbformat": 4,
 "nbformat_minor": 5
}
