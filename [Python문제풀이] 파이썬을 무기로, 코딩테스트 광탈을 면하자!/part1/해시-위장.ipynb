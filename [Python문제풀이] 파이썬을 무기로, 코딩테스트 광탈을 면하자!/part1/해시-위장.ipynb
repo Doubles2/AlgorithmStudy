{
 "cells": [
  {
   "cell_type": "code",
   "execution_count": 1,
   "id": "0dd40527-922b-41d7-901a-739fdbdc1b51",
   "metadata": {},
   "outputs": [],
   "source": [
    "from collections import Counter\n",
    "\n",
    "def solution(clothes):\n",
    "    answer = 0\n",
    "    tmp = {}\n",
    "    \n",
    "    # init\n",
    "    for idx in clothes :\n",
    "        tmp[idx[1]] = 0\n",
    "    \n",
    "    # count\n",
    "    for idx in clothes :\n",
    "        tmp[idx[1]] += 1\n",
    "    \n",
    "    # result\n",
    "    answer = 1\n",
    "    for idx in tmp.keys() :\n",
    "        tmp[idx] += 1\n",
    "        answer *= tmp[idx]\n",
    "        \n",
    "    answer -= 1\n",
    "\n",
    "    return answer"
   ]
  },
  {
   "cell_type": "code",
   "execution_count": 4,
   "id": "b48c3878-2989-4872-b1b8-e24f751aa1e4",
   "metadata": {},
   "outputs": [
    {
     "name": "stdout",
     "output_type": "stream",
     "text": [
      "5\n",
      "3\n"
     ]
    }
   ],
   "source": [
    "print(solution([[\"yellowhat\", \"headgear\"], [\"bluesunglasses\", \"eyewear\"], [\"green_turban\", \"headgear\"]]))\n",
    "print(solution([[\"crowmask\", \"face\"], [\"bluesunglasses\", \"face\"], [\"smoky_makeup\", \"face\"]]))"
   ]
  },
  {
   "cell_type": "code",
   "execution_count": null,
   "id": "829a5868-aa4a-4a29-abf7-9f72332bb315",
   "metadata": {},
   "outputs": [],
   "source": []
  }
 ],
 "metadata": {
  "kernelspec": {
   "display_name": "Python 3 (ipykernel)",
   "language": "python",
   "name": "python3"
  },
  "language_info": {
   "codemirror_mode": {
    "name": "ipython",
    "version": 3
   },
   "file_extension": ".py",
   "mimetype": "text/x-python",
   "name": "python",
   "nbconvert_exporter": "python",
   "pygments_lexer": "ipython3",
   "version": "3.9.7"
  }
 },
 "nbformat": 4,
 "nbformat_minor": 5
}
